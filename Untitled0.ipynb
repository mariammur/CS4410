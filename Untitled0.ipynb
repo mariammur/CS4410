{
  "nbformat": 4,
  "nbformat_minor": 0,
  "metadata": {
    "colab": {
      "name": "Untitled0.ipynb",
      "provenance": [],
      "collapsed_sections": [],
      "authorship_tag": "ABX9TyPcy+HGBDA1d3mylGmc50s5",
      "include_colab_link": true
    },
    "kernelspec": {
      "name": "python3",
      "display_name": "Python 3"
    },
    "language_info": {
      "name": "python"
    },
    "accelerator": "GPU"
  },
  "cells": [
    {
      "cell_type": "markdown",
      "metadata": {
        "id": "view-in-github",
        "colab_type": "text"
      },
      "source": [
        "<a href=\"https://colab.research.google.com/github/mariammur/CS4410/blob/main/Untitled0.ipynb\" target=\"_parent\"><img src=\"https://colab.research.google.com/assets/colab-badge.svg\" alt=\"Open In Colab\"/></a>"
      ]
    },
    {
      "cell_type": "markdown",
      "source": [
        "A"
      ],
      "metadata": {
        "id": "rZDR4aaABe9i"
      }
    },
    {
      "cell_type": "code",
      "source": [
        "import pandas as pd\n",
        "\n",
        "url = 'https://raw.githubusercontent.com/tidyverse/ggplot2/master/data-raw/diamonds.csv'\n",
        "df = pd.read_csv(url)\n",
        "print(df)"
      ],
      "metadata": {
        "colab": {
          "base_uri": "https://localhost:8080/"
        },
        "id": "4ZZYxhboHlHH",
        "outputId": "bb0da6c8-4219-4a00-8eed-6626bca572b2"
      },
      "execution_count": 56,
      "outputs": [
        {
          "output_type": "stream",
          "name": "stdout",
          "text": [
            "       carat        cut color clarity  depth  table  price     x     y     z\n",
            "0       0.23      Ideal     E     SI2   61.5   55.0    326  3.95  3.98  2.43\n",
            "1       0.21    Premium     E     SI1   59.8   61.0    326  3.89  3.84  2.31\n",
            "2       0.23       Good     E     VS1   56.9   65.0    327  4.05  4.07  2.31\n",
            "3       0.29    Premium     I     VS2   62.4   58.0    334  4.20  4.23  2.63\n",
            "4       0.31       Good     J     SI2   63.3   58.0    335  4.34  4.35  2.75\n",
            "...      ...        ...   ...     ...    ...    ...    ...   ...   ...   ...\n",
            "53935   0.72      Ideal     D     SI1   60.8   57.0   2757  5.75  5.76  3.50\n",
            "53936   0.72       Good     D     SI1   63.1   55.0   2757  5.69  5.75  3.61\n",
            "53937   0.70  Very Good     D     SI1   62.8   60.0   2757  5.66  5.68  3.56\n",
            "53938   0.86    Premium     H     SI2   61.0   58.0   2757  6.15  6.12  3.74\n",
            "53939   0.75      Ideal     D     SI2   62.2   55.0   2757  5.83  5.87  3.64\n",
            "\n",
            "[53940 rows x 10 columns]\n"
          ]
        }
      ]
    },
    {
      "cell_type": "code",
      "source": [
        "import pandas as pd\n",
        "df = pd.read_csv('https://raw.githubusercontent.com/tidyverse/ggplot2/master/data-raw/diamonds.csv')\n",
        "print(df)"
      ],
      "metadata": {
        "colab": {
          "base_uri": "https://localhost:8080/"
        },
        "id": "9SBf5I36OUJl",
        "outputId": "1c71b7c5-acad-4920-a781-fbffc090661f"
      },
      "execution_count": 57,
      "outputs": [
        {
          "output_type": "stream",
          "name": "stdout",
          "text": [
            "       carat        cut color clarity  depth  table  price     x     y     z\n",
            "0       0.23      Ideal     E     SI2   61.5   55.0    326  3.95  3.98  2.43\n",
            "1       0.21    Premium     E     SI1   59.8   61.0    326  3.89  3.84  2.31\n",
            "2       0.23       Good     E     VS1   56.9   65.0    327  4.05  4.07  2.31\n",
            "3       0.29    Premium     I     VS2   62.4   58.0    334  4.20  4.23  2.63\n",
            "4       0.31       Good     J     SI2   63.3   58.0    335  4.34  4.35  2.75\n",
            "...      ...        ...   ...     ...    ...    ...    ...   ...   ...   ...\n",
            "53935   0.72      Ideal     D     SI1   60.8   57.0   2757  5.75  5.76  3.50\n",
            "53936   0.72       Good     D     SI1   63.1   55.0   2757  5.69  5.75  3.61\n",
            "53937   0.70  Very Good     D     SI1   62.8   60.0   2757  5.66  5.68  3.56\n",
            "53938   0.86    Premium     H     SI2   61.0   58.0   2757  6.15  6.12  3.74\n",
            "53939   0.75      Ideal     D     SI2   62.2   55.0   2757  5.83  5.87  3.64\n",
            "\n",
            "[53940 rows x 10 columns]\n"
          ]
        }
      ]
    },
    {
      "cell_type": "markdown",
      "source": [
        "B"
      ],
      "metadata": {
        "id": "qCFH1sxQBjT5"
      }
    },
    {
      "cell_type": "code",
      "source": [
        "import pandas as pd\n",
        "import io\n",
        "\n",
        "df = pd.read_csv ('https://raw.githubusercontent.com/tidyverse/ggplot2/master/data-raw/diamonds.csv', index_col=0)\n",
        "print(df)\n",
        "\n",
        "\n"
      ],
      "metadata": {
        "colab": {
          "base_uri": "https://localhost:8080/"
        },
        "id": "ukzLguJimn3t",
        "outputId": "2d33d98a-4845-4c42-835b-696103759a81"
      },
      "execution_count": 58,
      "outputs": [
        {
          "output_type": "stream",
          "name": "stdout",
          "text": [
            "             cut color clarity  depth  table  price     x     y     z\n",
            "carat                                                                \n",
            "0.23       Ideal     E     SI2   61.5   55.0    326  3.95  3.98  2.43\n",
            "0.21     Premium     E     SI1   59.8   61.0    326  3.89  3.84  2.31\n",
            "0.23        Good     E     VS1   56.9   65.0    327  4.05  4.07  2.31\n",
            "0.29     Premium     I     VS2   62.4   58.0    334  4.20  4.23  2.63\n",
            "0.31        Good     J     SI2   63.3   58.0    335  4.34  4.35  2.75\n",
            "...          ...   ...     ...    ...    ...    ...   ...   ...   ...\n",
            "0.72       Ideal     D     SI1   60.8   57.0   2757  5.75  5.76  3.50\n",
            "0.72        Good     D     SI1   63.1   55.0   2757  5.69  5.75  3.61\n",
            "0.70   Very Good     D     SI1   62.8   60.0   2757  5.66  5.68  3.56\n",
            "0.86     Premium     H     SI2   61.0   58.0   2757  6.15  6.12  3.74\n",
            "0.75       Ideal     D     SI2   62.2   55.0   2757  5.83  5.87  3.64\n",
            "\n",
            "[53940 rows x 9 columns]\n"
          ]
        }
      ]
    },
    {
      "cell_type": "markdown",
      "source": [
        "C"
      ],
      "metadata": {
        "id": "9aN5N8QXBlA_"
      }
    },
    {
      "cell_type": "code",
      "source": [
        "import pandas as pd\n",
        "import io\n",
        " \n",
        "df = pd.read_csv ('https://raw.githubusercontent.com/tidyverse/ggplot2/master/data-raw/diamonds.csv', index_col=0)\n",
        "result = df.head(7)\n",
        "print(result)\n"
      ],
      "metadata": {
        "colab": {
          "base_uri": "https://localhost:8080/"
        },
        "id": "7hGL5zeUnuo8",
        "outputId": "6e464715-41d2-4332-da8d-fe6206e5fa27"
      },
      "execution_count": 59,
      "outputs": [
        {
          "output_type": "stream",
          "name": "stdout",
          "text": [
            "             cut color clarity  depth  table  price     x     y     z\n",
            "carat                                                                \n",
            "0.23       Ideal     E     SI2   61.5   55.0    326  3.95  3.98  2.43\n",
            "0.21     Premium     E     SI1   59.8   61.0    326  3.89  3.84  2.31\n",
            "0.23        Good     E     VS1   56.9   65.0    327  4.05  4.07  2.31\n",
            "0.29     Premium     I     VS2   62.4   58.0    334  4.20  4.23  2.63\n",
            "0.31        Good     J     SI2   63.3   58.0    335  4.34  4.35  2.75\n",
            "0.24   Very Good     J    VVS2   62.8   57.0    336  3.94  3.96  2.48\n",
            "0.24   Very Good     I    VVS1   62.3   57.0    336  3.95  3.98  2.47\n"
          ]
        }
      ]
    },
    {
      "cell_type": "markdown",
      "source": [
        "D"
      ],
      "metadata": {
        "id": "44lL-CV3BmUF"
      }
    },
    {
      "cell_type": "code",
      "source": [
        "import pandas as pd\n",
        "import io\n",
        " \n",
        "df = pd.read_csv ('https://raw.githubusercontent.com/tidyverse/ggplot2/master/data-raw/diamonds.csv', index_col=0)\n",
        "result = df.tail(7)\n",
        "print(result)\n"
      ],
      "metadata": {
        "colab": {
          "base_uri": "https://localhost:8080/"
        },
        "id": "nwHfdbJ-L6zM",
        "outputId": "e42dfbd0-50db-45f1-c19b-a24ff4d4c0d3"
      },
      "execution_count": 60,
      "outputs": [
        {
          "output_type": "stream",
          "name": "stdout",
          "text": [
            "             cut color clarity  depth  table  price     x     y     z\n",
            "carat                                                                \n",
            "0.70   Very Good     E     VS2   61.2   59.0   2757  5.69  5.72  3.49\n",
            "0.72     Premium     D     SI1   62.7   59.0   2757  5.69  5.73  3.58\n",
            "0.72       Ideal     D     SI1   60.8   57.0   2757  5.75  5.76  3.50\n",
            "0.72        Good     D     SI1   63.1   55.0   2757  5.69  5.75  3.61\n",
            "0.70   Very Good     D     SI1   62.8   60.0   2757  5.66  5.68  3.56\n",
            "0.86     Premium     H     SI2   61.0   58.0   2757  6.15  6.12  3.74\n",
            "0.75       Ideal     D     SI2   62.2   55.0   2757  5.83  5.87  3.64\n"
          ]
        }
      ]
    },
    {
      "cell_type": "markdown",
      "source": [
        "E"
      ],
      "metadata": {
        "id": "MrBNVvmJBqsI"
      }
    },
    {
      "cell_type": "code",
      "source": [
        "import pandas as pd\n",
        "\n",
        "df = pd.read_csv ('https://raw.githubusercontent.com/tidyverse/ggplot2/master/data-raw/diamonds.csv')\n",
        "print(df.describe())\n",
        "\n"
      ],
      "metadata": {
        "colab": {
          "base_uri": "https://localhost:8080/"
        },
        "id": "sjsgBtmgMODD",
        "outputId": "b0d4f408-a7ab-452d-a267-7e35c86ab882"
      },
      "execution_count": 61,
      "outputs": [
        {
          "output_type": "stream",
          "name": "stdout",
          "text": [
            "              carat         depth         table         price             x  \\\n",
            "count  53940.000000  53940.000000  53940.000000  53940.000000  53940.000000   \n",
            "mean       0.797940     61.749405     57.457184   3932.799722      5.731157   \n",
            "std        0.474011      1.432621      2.234491   3989.439738      1.121761   \n",
            "min        0.200000     43.000000     43.000000    326.000000      0.000000   \n",
            "25%        0.400000     61.000000     56.000000    950.000000      4.710000   \n",
            "50%        0.700000     61.800000     57.000000   2401.000000      5.700000   \n",
            "75%        1.040000     62.500000     59.000000   5324.250000      6.540000   \n",
            "max        5.010000     79.000000     95.000000  18823.000000     10.740000   \n",
            "\n",
            "                  y             z  \n",
            "count  53940.000000  53940.000000  \n",
            "mean       5.734526      3.538734  \n",
            "std        1.142135      0.705699  \n",
            "min        0.000000      0.000000  \n",
            "25%        4.720000      2.910000  \n",
            "50%        5.710000      3.530000  \n",
            "75%        6.540000      4.040000  \n",
            "max       58.900000     31.800000  \n"
          ]
        }
      ]
    },
    {
      "cell_type": "markdown",
      "source": [
        "F"
      ],
      "metadata": {
        "id": "ZTKCuL55BsZ3"
      }
    },
    {
      "cell_type": "code",
      "source": [
        "s = pd.Series(['cut', 'color', 'clarity'])\n",
        "s.describe()"
      ],
      "metadata": {
        "colab": {
          "base_uri": "https://localhost:8080/"
        },
        "id": "TgS1s9mDC9M5",
        "outputId": "7e7bb3e9-9dbb-422d-816b-ecdd9c1005d0"
      },
      "execution_count": 62,
      "outputs": [
        {
          "output_type": "execute_result",
          "data": {
            "text/plain": [
              "count       3\n",
              "unique      3\n",
              "top       cut\n",
              "freq        1\n",
              "dtype: object"
            ]
          },
          "metadata": {},
          "execution_count": 62
        }
      ]
    },
    {
      "cell_type": "code",
      "source": [
        "df.cut.describe()"
      ],
      "metadata": {
        "id": "JzIiZ0U8IY77",
        "outputId": "08ba63dd-054e-473d-eaec-412c9819a3fc",
        "colab": {
          "base_uri": "https://localhost:8080/"
        }
      },
      "execution_count": 79,
      "outputs": [
        {
          "output_type": "execute_result",
          "data": {
            "text/plain": [
              "count     53940\n",
              "unique        5\n",
              "top       Ideal\n",
              "freq      21551\n",
              "Name: cut, dtype: object"
            ]
          },
          "metadata": {},
          "execution_count": 79
        }
      ]
    },
    {
      "cell_type": "code",
      "source": [
        "df['color'].describe()\n"
      ],
      "metadata": {
        "colab": {
          "base_uri": "https://localhost:8080/"
        },
        "id": "xbC-77qq1USt",
        "outputId": "d2759ff6-1647-4381-ad0c-d09605a88019"
      },
      "execution_count": 64,
      "outputs": [
        {
          "output_type": "execute_result",
          "data": {
            "text/plain": [
              "count     53940\n",
              "unique        7\n",
              "top           G\n",
              "freq      11292\n",
              "Name: color, dtype: object"
            ]
          },
          "metadata": {},
          "execution_count": 64
        }
      ]
    },
    {
      "cell_type": "code",
      "source": [
        "df['clarity'].describe()\n"
      ],
      "metadata": {
        "colab": {
          "base_uri": "https://localhost:8080/"
        },
        "id": "lhT6JQurBQWG",
        "outputId": "865dcd13-b638-4eae-cfd9-7f5c607311b3"
      },
      "execution_count": 65,
      "outputs": [
        {
          "output_type": "execute_result",
          "data": {
            "text/plain": [
              "count     53940\n",
              "unique        8\n",
              "top         SI1\n",
              "freq      13065\n",
              "Name: clarity, dtype: object"
            ]
          },
          "metadata": {},
          "execution_count": 65
        }
      ]
    },
    {
      "cell_type": "markdown",
      "source": [
        "G"
      ],
      "metadata": {
        "id": "049fvJM-Buh-"
      }
    },
    {
      "cell_type": "code",
      "source": [
        "df.cut.unique()\n"
      ],
      "metadata": {
        "colab": {
          "base_uri": "https://localhost:8080/"
        },
        "id": "oTsEt9glBb4o",
        "outputId": "7e08771e-67ac-4898-d0cb-dc8681d55dff"
      },
      "execution_count": 83,
      "outputs": [
        {
          "output_type": "execute_result",
          "data": {
            "text/plain": [
              "array(['Ideal', 'Premium', 'Good', 'Very Good', 'Fair'], dtype=object)"
            ]
          },
          "metadata": {},
          "execution_count": 83
        }
      ]
    },
    {
      "cell_type": "code",
      "source": [
        "df['color'].unique()\n"
      ],
      "metadata": {
        "colab": {
          "base_uri": "https://localhost:8080/"
        },
        "id": "6CQYPkOOCmms",
        "outputId": "82694f5c-9e68-424e-b300-ffe8d979d43a"
      },
      "execution_count": 95,
      "outputs": [
        {
          "output_type": "execute_result",
          "data": {
            "text/plain": [
              "array(['E', 'I', 'J', 'H', 'F', 'G', 'D'], dtype=object)"
            ]
          },
          "metadata": {},
          "execution_count": 95
        }
      ]
    },
    {
      "cell_type": "code",
      "source": [
        "df.clarity.unique()"
      ],
      "metadata": {
        "id": "nNFkaUgHLVlH",
        "outputId": "f47b2b93-4520-440f-8cd4-abdca03223c3",
        "colab": {
          "base_uri": "https://localhost:8080/"
        }
      },
      "execution_count": 96,
      "outputs": [
        {
          "output_type": "execute_result",
          "data": {
            "text/plain": [
              "array(['SI2', 'SI1', 'VS1', 'VS2', 'VVS2', 'VVS1', 'I1', 'IF'],\n",
              "      dtype=object)"
            ]
          },
          "metadata": {},
          "execution_count": 96
        }
      ]
    },
    {
      "cell_type": "markdown",
      "source": [
        "H"
      ],
      "metadata": {
        "id": "CfTGkONxDiWD"
      }
    },
    {
      "cell_type": "code",
      "source": [
        "import matplotlib.pyplot as plt\n",
        "df.hist()"
      ],
      "metadata": {
        "id": "_citYM4tHFBW",
        "outputId": "7512f166-439f-4a73-f3fd-490a79a3fd73",
        "colab": {
          "base_uri": "https://localhost:8080/",
          "height": 454
        }
      },
      "execution_count": 78,
      "outputs": [
        {
          "output_type": "execute_result",
          "data": {
            "text/plain": [
              "array([[<matplotlib.axes._subplots.AxesSubplot object at 0x7fee2396bf10>,\n",
              "        <matplotlib.axes._subplots.AxesSubplot object at 0x7fee2418ef50>,\n",
              "        <matplotlib.axes._subplots.AxesSubplot object at 0x7fee23f02a10>],\n",
              "       [<matplotlib.axes._subplots.AxesSubplot object at 0x7fee23d027d0>,\n",
              "        <matplotlib.axes._subplots.AxesSubplot object at 0x7fee23bef8d0>,\n",
              "        <matplotlib.axes._subplots.AxesSubplot object at 0x7fee253576d0>],\n",
              "       [<matplotlib.axes._subplots.AxesSubplot object at 0x7fee252d0750>,\n",
              "        <matplotlib.axes._subplots.AxesSubplot object at 0x7fee24be1590>,\n",
              "        <matplotlib.axes._subplots.AxesSubplot object at 0x7fee24be16d0>]],\n",
              "      dtype=object)"
            ]
          },
          "metadata": {},
          "execution_count": 78
        },
        {
          "output_type": "display_data",
          "data": {
            "text/plain": [
              "<Figure size 432x288 with 9 Axes>"
            ],
            "image/png": "[encoded data removed]"
          },
          "metadata": {
            "needs_background": "light"
          }
        }
      ]
    }
  ]
}