{
  "nbformat": 4,
  "nbformat_minor": 0,
  "metadata": {
    "colab": {
      "name": "Untitled0.ipynb",
      "provenance": [],
      "collapsed_sections": [],
      "authorship_tag": "ABX9TyMvB6qPHtpddIUq4Or3iKNr",
      "include_colab_link": true
    },
    "kernelspec": {
      "name": "python3",
      "display_name": "Python 3"
    },
    "language_info": {
      "name": "python"
    },
    "accelerator": "GPU"
  },
  "cells": [
    {
      "cell_type": "markdown",
      "metadata": {
        "id": "view-in-github",
        "colab_type": "text"
      },
      "source": [
        "<a href=\"https://colab.research.google.com/github/mariammur/CS4410/blob/main/Untitled0.ipynb\" target=\"_parent\"><img src=\"https://colab.research.google.com/assets/colab-badge.svg\" alt=\"Open In Colab\"/></a>"
      ]
    },
    {
      "cell_type": "code",
      "source": [
        "import pandas as pd\n",
        "\n",
        "url = 'https://raw.githubusercontent.com/tidyverse/ggplot2/master/data-raw/diamonds.csv'\n",
        "df = pd.read_csv(url)"
      ],
      "metadata": {
        "id": "4ZZYxhboHlHH"
      },
      "execution_count": 15,
      "outputs": []
    },
    {
      "cell_type": "code",
      "source": [
        "import pandas as pd\n",
        "df = pd.read_csv('https://raw.githubusercontent.com/tidyverse/ggplot2/master/data-raw/diamonds.csv')\n",
        "print(df)"
      ],
      "metadata": {
        "colab": {
          "base_uri": "https://localhost:8080/"
        },
        "id": "9SBf5I36OUJl",
        "outputId": "ea210808-5541-43b1-f286-df59106f9391"
      },
      "execution_count": 16,
      "outputs": [
        {
          "output_type": "stream",
          "name": "stdout",
          "text": [
            "       carat        cut color clarity  depth  table  price     x     y     z\n",
            "0       0.23      Ideal     E     SI2   61.5   55.0    326  3.95  3.98  2.43\n",
            "1       0.21    Premium     E     SI1   59.8   61.0    326  3.89  3.84  2.31\n",
            "2       0.23       Good     E     VS1   56.9   65.0    327  4.05  4.07  2.31\n",
            "3       0.29    Premium     I     VS2   62.4   58.0    334  4.20  4.23  2.63\n",
            "4       0.31       Good     J     SI2   63.3   58.0    335  4.34  4.35  2.75\n",
            "...      ...        ...   ...     ...    ...    ...    ...   ...   ...   ...\n",
            "53935   0.72      Ideal     D     SI1   60.8   57.0   2757  5.75  5.76  3.50\n",
            "53936   0.72       Good     D     SI1   63.1   55.0   2757  5.69  5.75  3.61\n",
            "53937   0.70  Very Good     D     SI1   62.8   60.0   2757  5.66  5.68  3.56\n",
            "53938   0.86    Premium     H     SI2   61.0   58.0   2757  6.15  6.12  3.74\n",
            "53939   0.75      Ideal     D     SI2   62.2   55.0   2757  5.83  5.87  3.64\n",
            "\n",
            "[53940 rows x 10 columns]\n"
          ]
        }
      ]
    },
    {
      "cell_type": "code",
      "source": [
        "import pandas as pd\n",
        "import io\n",
        "\n",
        "df = pd.read_csv ('https://raw.githubusercontent.com/tidyverse/ggplot2/master/data-raw/diamonds.csv', index_col=0)\n",
        "print(df)\n",
        "\n",
        "\n"
      ],
      "metadata": {
        "colab": {
          "base_uri": "https://localhost:8080/"
        },
        "id": "ukzLguJimn3t",
        "outputId": "94f28297-53c5-4aec-f672-e7cf0794e03f"
      },
      "execution_count": 17,
      "outputs": [
        {
          "output_type": "stream",
          "name": "stdout",
          "text": [
            "             cut color clarity  depth  table  price     x     y     z\n",
            "carat                                                                \n",
            "0.23       Ideal     E     SI2   61.5   55.0    326  3.95  3.98  2.43\n",
            "0.21     Premium     E     SI1   59.8   61.0    326  3.89  3.84  2.31\n",
            "0.23        Good     E     VS1   56.9   65.0    327  4.05  4.07  2.31\n",
            "0.29     Premium     I     VS2   62.4   58.0    334  4.20  4.23  2.63\n",
            "0.31        Good     J     SI2   63.3   58.0    335  4.34  4.35  2.75\n",
            "...          ...   ...     ...    ...    ...    ...   ...   ...   ...\n",
            "0.72       Ideal     D     SI1   60.8   57.0   2757  5.75  5.76  3.50\n",
            "0.72        Good     D     SI1   63.1   55.0   2757  5.69  5.75  3.61\n",
            "0.70   Very Good     D     SI1   62.8   60.0   2757  5.66  5.68  3.56\n",
            "0.86     Premium     H     SI2   61.0   58.0   2757  6.15  6.12  3.74\n",
            "0.75       Ideal     D     SI2   62.2   55.0   2757  5.83  5.87  3.64\n",
            "\n",
            "[53940 rows x 9 columns]\n"
          ]
        }
      ]
    },
    {
      "cell_type": "code",
      "source": [
        "import pandas as pd\n",
        "import io\n",
        " \n",
        "df = pd.read_csv ('https://raw.githubusercontent.com/tidyverse/ggplot2/master/data-raw/diamonds.csv', index_col=0)\n",
        "result = df.head(7)\n",
        "print(result)\n"
      ],
      "metadata": {
        "colab": {
          "base_uri": "https://localhost:8080/"
        },
        "id": "7hGL5zeUnuo8",
        "outputId": "1a2884de-121a-4461-ee23-66de0633e35f"
      },
      "execution_count": 19,
      "outputs": [
        {
          "output_type": "stream",
          "name": "stdout",
          "text": [
            "             cut color clarity  depth  table  price     x     y     z\n",
            "carat                                                                \n",
            "0.23       Ideal     E     SI2   61.5   55.0    326  3.95  3.98  2.43\n",
            "0.21     Premium     E     SI1   59.8   61.0    326  3.89  3.84  2.31\n",
            "0.23        Good     E     VS1   56.9   65.0    327  4.05  4.07  2.31\n",
            "0.29     Premium     I     VS2   62.4   58.0    334  4.20  4.23  2.63\n",
            "0.31        Good     J     SI2   63.3   58.0    335  4.34  4.35  2.75\n",
            "0.24   Very Good     J    VVS2   62.8   57.0    336  3.94  3.96  2.48\n",
            "0.24   Very Good     I    VVS1   62.3   57.0    336  3.95  3.98  2.47\n"
          ]
        }
      ]
    },
    {
      "cell_type": "code",
      "source": [
        "import pandas as pd\n",
        "import io\n",
        " \n",
        "df = pd.read_csv ('https://raw.githubusercontent.com/tidyverse/ggplot2/master/data-raw/diamonds.csv', index_col=0)\n",
        "result = df.tail(7)\n",
        "print(result)\n"
      ],
      "metadata": {
        "colab": {
          "base_uri": "https://localhost:8080/"
        },
        "id": "nwHfdbJ-L6zM",
        "outputId": "e47561fc-94dc-4704-8598-bd859a3cff65"
      },
      "execution_count": 20,
      "outputs": [
        {
          "output_type": "stream",
          "name": "stdout",
          "text": [
            "             cut color clarity  depth  table  price     x     y     z\n",
            "carat                                                                \n",
            "0.70   Very Good     E     VS2   61.2   59.0   2757  5.69  5.72  3.49\n",
            "0.72     Premium     D     SI1   62.7   59.0   2757  5.69  5.73  3.58\n",
            "0.72       Ideal     D     SI1   60.8   57.0   2757  5.75  5.76  3.50\n",
            "0.72        Good     D     SI1   63.1   55.0   2757  5.69  5.75  3.61\n",
            "0.70   Very Good     D     SI1   62.8   60.0   2757  5.66  5.68  3.56\n",
            "0.86     Premium     H     SI2   61.0   58.0   2757  6.15  6.12  3.74\n",
            "0.75       Ideal     D     SI2   62.2   55.0   2757  5.83  5.87  3.64\n"
          ]
        }
      ]
    },
    {
      "cell_type": "code",
      "source": [
        "import pandas as pd\n",
        "\n",
        "df = pd.read_csv ('https://raw.githubusercontent.com/tidyverse/ggplot2/master/data-raw/diamonds.csv')\n",
        "print(df.carat.describe())\n"
      ],
      "metadata": {
        "colab": {
          "base_uri": "https://localhost:8080/"
        },
        "id": "sjsgBtmgMODD",
        "outputId": "4c42037e-e919-4a1f-e2a4-55f0862a38a9"
      },
      "execution_count": 11,
      "outputs": [
        {
          "output_type": "stream",
          "name": "stdout",
          "text": [
            "count    53940.000000\n",
            "mean         0.797940\n",
            "std          0.474011\n",
            "min          0.200000\n",
            "25%          0.400000\n",
            "50%          0.700000\n",
            "75%          1.040000\n",
            "max          5.010000\n",
            "Name: carat, dtype: float64\n"
          ]
        }
      ]
    }
  ]
}