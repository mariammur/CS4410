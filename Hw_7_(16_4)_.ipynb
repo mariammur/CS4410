{
  "cells": [
    {
      "cell_type": "markdown",
      "metadata": {
        "id": "view-in-github",
        "colab_type": "text"
      },
      "source": [
        "<a href=\"https://colab.research.google.com/github/mariammur/CS4410/blob/main/Hw_7_(16_4)_.ipynb\" target=\"_parent\"><img src=\"https://colab.research.google.com/assets/colab-badge.svg\" alt=\"Open In Colab\"/></a>"
      ]
    },
    {
      "cell_type": "code",
      "execution_count": 1,
      "metadata": {
        "id": "IGe2A_3-Okdg"
      },
      "outputs": [],
      "source": [
        "import numpy as np\n",
        "import pandas as pd \n",
        "import tensorflow as tf\n",
        "from tensorflow import keras\n",
        "import matplotlib.pyplot as plt\n",
        "from sklearn.model_selection import train_test_split"
      ]
    },
    {
      "cell_type": "code",
      "execution_count": 2,
      "metadata": {
        "colab": {
          "base_uri": "https://localhost:8080/",
          "height": 0
        },
        "id": "5yfj2skyNy6Y",
        "outputId": "a27ef2fd-44b6-4d5d-8eef-39405b50138c"
      },
      "outputs": [
        {
          "output_type": "execute_result",
          "data": {
            "text/plain": [
              "((array([[[0, 0, 0, ..., 0, 0, 0],\n",
              "          [0, 0, 0, ..., 0, 0, 0],\n",
              "          [0, 0, 0, ..., 0, 0, 0],\n",
              "          ...,\n",
              "          [0, 0, 0, ..., 0, 0, 0],\n",
              "          [0, 0, 0, ..., 0, 0, 0],\n",
              "          [0, 0, 0, ..., 0, 0, 0]],\n",
              "  \n",
              "         [[0, 0, 0, ..., 0, 0, 0],\n",
              "          [0, 0, 0, ..., 0, 0, 0],\n",
              "          [0, 0, 0, ..., 0, 0, 0],\n",
              "          ...,\n",
              "          [0, 0, 0, ..., 0, 0, 0],\n",
              "          [0, 0, 0, ..., 0, 0, 0],\n",
              "          [0, 0, 0, ..., 0, 0, 0]],\n",
              "  \n",
              "         [[0, 0, 0, ..., 0, 0, 0],\n",
              "          [0, 0, 0, ..., 0, 0, 0],\n",
              "          [0, 0, 0, ..., 0, 0, 0],\n",
              "          ...,\n",
              "          [0, 0, 0, ..., 0, 0, 0],\n",
              "          [0, 0, 0, ..., 0, 0, 0],\n",
              "          [0, 0, 0, ..., 0, 0, 0]],\n",
              "  \n",
              "         ...,\n",
              "  \n",
              "         [[0, 0, 0, ..., 0, 0, 0],\n",
              "          [0, 0, 0, ..., 0, 0, 0],\n",
              "          [0, 0, 0, ..., 0, 0, 0],\n",
              "          ...,\n",
              "          [0, 0, 0, ..., 0, 0, 0],\n",
              "          [0, 0, 0, ..., 0, 0, 0],\n",
              "          [0, 0, 0, ..., 0, 0, 0]],\n",
              "  \n",
              "         [[0, 0, 0, ..., 0, 0, 0],\n",
              "          [0, 0, 0, ..., 0, 0, 0],\n",
              "          [0, 0, 0, ..., 0, 0, 0],\n",
              "          ...,\n",
              "          [0, 0, 0, ..., 0, 0, 0],\n",
              "          [0, 0, 0, ..., 0, 0, 0],\n",
              "          [0, 0, 0, ..., 0, 0, 0]],\n",
              "  \n",
              "         [[0, 0, 0, ..., 0, 0, 0],\n",
              "          [0, 0, 0, ..., 0, 0, 0],\n",
              "          [0, 0, 0, ..., 0, 0, 0],\n",
              "          ...,\n",
              "          [0, 0, 0, ..., 0, 0, 0],\n",
              "          [0, 0, 0, ..., 0, 0, 0],\n",
              "          [0, 0, 0, ..., 0, 0, 0]]], dtype=uint8),\n",
              "  array([5, 0, 4, ..., 5, 6, 8], dtype=uint8)),\n",
              " (array([[[0, 0, 0, ..., 0, 0, 0],\n",
              "          [0, 0, 0, ..., 0, 0, 0],\n",
              "          [0, 0, 0, ..., 0, 0, 0],\n",
              "          ...,\n",
              "          [0, 0, 0, ..., 0, 0, 0],\n",
              "          [0, 0, 0, ..., 0, 0, 0],\n",
              "          [0, 0, 0, ..., 0, 0, 0]],\n",
              "  \n",
              "         [[0, 0, 0, ..., 0, 0, 0],\n",
              "          [0, 0, 0, ..., 0, 0, 0],\n",
              "          [0, 0, 0, ..., 0, 0, 0],\n",
              "          ...,\n",
              "          [0, 0, 0, ..., 0, 0, 0],\n",
              "          [0, 0, 0, ..., 0, 0, 0],\n",
              "          [0, 0, 0, ..., 0, 0, 0]],\n",
              "  \n",
              "         [[0, 0, 0, ..., 0, 0, 0],\n",
              "          [0, 0, 0, ..., 0, 0, 0],\n",
              "          [0, 0, 0, ..., 0, 0, 0],\n",
              "          ...,\n",
              "          [0, 0, 0, ..., 0, 0, 0],\n",
              "          [0, 0, 0, ..., 0, 0, 0],\n",
              "          [0, 0, 0, ..., 0, 0, 0]],\n",
              "  \n",
              "         ...,\n",
              "  \n",
              "         [[0, 0, 0, ..., 0, 0, 0],\n",
              "          [0, 0, 0, ..., 0, 0, 0],\n",
              "          [0, 0, 0, ..., 0, 0, 0],\n",
              "          ...,\n",
              "          [0, 0, 0, ..., 0, 0, 0],\n",
              "          [0, 0, 0, ..., 0, 0, 0],\n",
              "          [0, 0, 0, ..., 0, 0, 0]],\n",
              "  \n",
              "         [[0, 0, 0, ..., 0, 0, 0],\n",
              "          [0, 0, 0, ..., 0, 0, 0],\n",
              "          [0, 0, 0, ..., 0, 0, 0],\n",
              "          ...,\n",
              "          [0, 0, 0, ..., 0, 0, 0],\n",
              "          [0, 0, 0, ..., 0, 0, 0],\n",
              "          [0, 0, 0, ..., 0, 0, 0]],\n",
              "  \n",
              "         [[0, 0, 0, ..., 0, 0, 0],\n",
              "          [0, 0, 0, ..., 0, 0, 0],\n",
              "          [0, 0, 0, ..., 0, 0, 0],\n",
              "          ...,\n",
              "          [0, 0, 0, ..., 0, 0, 0],\n",
              "          [0, 0, 0, ..., 0, 0, 0],\n",
              "          [0, 0, 0, ..., 0, 0, 0]]], dtype=uint8),\n",
              "  array([7, 2, 1, ..., 4, 5, 6], dtype=uint8)))"
            ]
          },
          "metadata": {},
          "execution_count": 2
        }
      ],
      "source": [
        "tf.keras.datasets.mnist.load_data(path=\"mnist.npz\")\n",
        "\n"
      ]
    },
    {
      "cell_type": "code",
      "execution_count": 3,
      "metadata": {
        "id": "3hlOewagOo_D"
      },
      "outputs": [],
      "source": [
        "(X_train, y_train), (X_test, y_test) = keras.datasets.mnist.load_data()\n",
        "assert X_train.shape == (60000, 28, 28)\n",
        "assert X_test.shape == (10000, 28, 28)\n",
        "assert y_train.shape == (60000,)\n",
        "assert y_test.shape == (10000,)"
      ]
    },
    {
      "cell_type": "code",
      "execution_count": 4,
      "metadata": {
        "colab": {
          "base_uri": "https://localhost:8080/",
          "height": 657
        },
        "id": "RD-krX8UOsCd",
        "outputId": "ebd04425-5264-4f5f-b4ff-4492c3741320"
      },
      "outputs": [
        {
          "output_type": "display_data",
          "data": {
            "text/plain": [
              "<Figure size 1152x648 with 24 Axes>"
            ],
            "image/png": "[encoded data removed]"
          },
          "metadata": {}
        }
      ],
      "source": [
        "import numpy as np\n",
        "index = np.random.choice(np.arange(len(X_train)), 24, replace=False)  # 24 indices\n",
        "figure, axes = plt.subplots(nrows=4, ncols=6, figsize=(16, 9))\n",
        "\n",
        "for item in zip(axes.ravel(), X_train[index], y_train[index]):\n",
        "    axes, image, target = item\n",
        "    axes.imshow(image, cmap=plt.cm.gray_r)\n",
        "    axes.set_xticks([])  # remove x-axis tick marks\n",
        "    axes.set_yticks([])  # remove y-axis tick marks\n",
        "    axes.set_title(target)\n",
        "\n",
        "plt.tight_layout()"
      ]
    },
    {
      "cell_type": "code",
      "execution_count": 5,
      "metadata": {
        "id": "FAfy05oEPUqx"
      },
      "outputs": [],
      "source": [
        "X_train = X_train.astype('float32') / 255\n"
      ]
    },
    {
      "cell_type": "code",
      "execution_count": 6,
      "metadata": {
        "id": "R4Ymb0TbPa01"
      },
      "outputs": [],
      "source": [
        "X_test = X_test.astype('float32') / 255"
      ]
    },
    {
      "cell_type": "code",
      "execution_count": 7,
      "metadata": {
        "colab": {
          "base_uri": "https://localhost:8080/",
          "height": 0
        },
        "id": "bE-xZ037Pb4X",
        "outputId": "4cad965a-1650-4261-8f11-2287082dee8e"
      },
      "outputs": [
        {
          "output_type": "execute_result",
          "data": {
            "text/plain": [
              "(60000, 10)"
            ]
          },
          "metadata": {},
          "execution_count": 7
        }
      ],
      "source": [
        "from tensorflow.keras.utils import to_categorical\n",
        "y_train = to_categorical(y_train)\n",
        "y_train.shape"
      ]
    },
    {
      "cell_type": "code",
      "execution_count": 8,
      "metadata": {
        "colab": {
          "base_uri": "https://localhost:8080/",
          "height": 0
        },
        "id": "L4uO5MhXPek7",
        "outputId": "5906947f-f49f-448d-feb4-9f47cc615c2f"
      },
      "outputs": [
        {
          "output_type": "execute_result",
          "data": {
            "text/plain": [
              "array([0., 0., 0., 0., 0., 1., 0., 0., 0., 0.], dtype=float32)"
            ]
          },
          "metadata": {},
          "execution_count": 8
        }
      ],
      "source": [
        "y_train[0]"
      ]
    },
    {
      "cell_type": "code",
      "execution_count": 9,
      "metadata": {
        "colab": {
          "base_uri": "https://localhost:8080/",
          "height": 0
        },
        "id": "Wndc4X5sPgo_",
        "outputId": "62696344-6466-45e2-fe9b-0b57a62a55ae"
      },
      "outputs": [
        {
          "output_type": "execute_result",
          "data": {
            "text/plain": [
              "(10000, 10)"
            ]
          },
          "metadata": {},
          "execution_count": 9
        }
      ],
      "source": [
        "y_test = to_categorical(y_test)\n",
        "y_test.shape"
      ]
    },
    {
      "cell_type": "code",
      "execution_count": 10,
      "metadata": {
        "id": "g0C2QCqUPigQ"
      },
      "outputs": [],
      "source": [
        "from tensorflow.keras.models import Sequential \n",
        "cnn = Sequential()"
      ]
    },
    {
      "cell_type": "code",
      "execution_count": 11,
      "metadata": {
        "id": "QEO-upNzPk79"
      },
      "outputs": [],
      "source": [
        "from tensorflow.keras.layers import Conv2D, Dense, Flatten, MaxPooling2D \n"
      ]
    },
    {
      "cell_type": "code",
      "execution_count": 12,
      "metadata": {
        "id": "hgpNY-HLPmyN"
      },
      "outputs": [],
      "source": [
        "cnn.add(Conv2D(filters=64, kernel_size=(3, 3), activation='relu', \n",
        "               input_shape=(28, 28, 1)))\n"
      ]
    },
    {
      "cell_type": "code",
      "execution_count": 13,
      "metadata": {
        "id": "j3cKYaXvPqP4"
      },
      "outputs": [],
      "source": [
        "cnn.add(MaxPooling2D(pool_size=(2, 2)))\n"
      ]
    },
    {
      "cell_type": "code",
      "execution_count": 14,
      "metadata": {
        "id": "B4wyVmpBPsUe"
      },
      "outputs": [],
      "source": [
        "cnn.add(Conv2D(filters=128, kernel_size=(3, 3), activation='relu'))\n",
        "cnn.add(MaxPooling2D(pool_size=(2, 2)))"
      ]
    },
    {
      "cell_type": "code",
      "source": [
        "cnn.add(Flatten())\n",
        "cnn.add(Dense(units=128, activation='relu'))\n",
        "cnn.add(Dense(units=10, activation='softmax'))"
      ],
      "metadata": {
        "id": "VokUaONlcs9W"
      },
      "execution_count": 15,
      "outputs": []
    },
    {
      "cell_type": "code",
      "source": [
        "cnn.summary()\n"
      ],
      "metadata": {
        "colab": {
          "base_uri": "https://localhost:8080/",
          "height": 0
        },
        "id": "3swg4ceAdGF4",
        "outputId": "412df430-5c6c-49f7-e85b-e0bd63b726db"
      },
      "execution_count": 16,
      "outputs": [
        {
          "output_type": "stream",
          "name": "stdout",
          "text": [
            "Model: \"sequential\"\n",
            "_________________________________________________________________\n",
            " Layer (type)                Output Shape              Param #   \n",
            "=================================================================\n",
            " conv2d (Conv2D)             (None, 26, 26, 64)        640       \n",
            "                                                                 \n",
            " max_pooling2d (MaxPooling2D  (None, 13, 13, 64)       0         \n",
            " )                                                               \n",
            "                                                                 \n",
            " conv2d_1 (Conv2D)           (None, 11, 11, 128)       73856     \n",
            "                                                                 \n",
            " max_pooling2d_1 (MaxPooling  (None, 5, 5, 128)        0         \n",
            " 2D)                                                             \n",
            "                                                                 \n",
            " flatten (Flatten)           (None, 3200)              0         \n",
            "                                                                 \n",
            " dense (Dense)               (None, 128)               409728    \n",
            "                                                                 \n",
            " dense_1 (Dense)             (None, 10)                1290      \n",
            "                                                                 \n",
            "=================================================================\n",
            "Total params: 485,514\n",
            "Trainable params: 485,514\n",
            "Non-trainable params: 0\n",
            "_________________________________________________________________\n"
          ]
        }
      ]
    },
    {
      "cell_type": "code",
      "source": [
        "from tensorflow.keras.utils import plot_model\n",
        "from IPython.display import Image\n",
        "plot_model(cnn, to_file='convnet.png', show_shapes=True, \n",
        "           show_layer_names=True)\n",
        "Image(filename='convnet.png')  "
      ],
      "metadata": {
        "colab": {
          "base_uri": "https://localhost:8080/",
          "height": 865
        },
        "id": "Bg1oOvMIdHH0",
        "outputId": "2df182e5-0f8e-4a00-d3e1-ee2e3e80125b"
      },
      "execution_count": 17,
      "outputs": [
        {
          "output_type": "execute_result",
          "data": {
            "text/plain": [
              "<IPython.core.display.Image object>"
            ],
            "image/png": "[encoded data removed]"
          },
          "metadata": {},
          "execution_count": 17
        }
      ]
    },
    {
      "cell_type": "code",
      "source": [
        "cnn.compile(optimizer='adam',\n",
        "            loss='categorical_crossentropy',\n",
        "            metrics=['accuracy'])"
      ],
      "metadata": {
        "id": "ID-m2ptmdKL3"
      },
      "execution_count": 18,
      "outputs": []
    },
    {
      "cell_type": "code",
      "source": [
        "cnn.fit(X_train, y_train, epochs=5, batch_size=64, validation_split=0.1)\n"
      ],
      "metadata": {
        "colab": {
          "base_uri": "https://localhost:8080/",
          "height": 0
        },
        "id": "IhtfKRYDdMMg",
        "outputId": "5f17ee2a-4a40-45cc-cb33-a8b6baa841e3"
      },
      "execution_count": 19,
      "outputs": [
        {
          "output_type": "stream",
          "name": "stdout",
          "text": [
            "Epoch 1/5\n",
            "844/844 [==============================] - 124s 146ms/step - loss: 0.1413 - accuracy: 0.9573 - val_loss: 0.0489 - val_accuracy: 0.9860\n",
            "Epoch 2/5\n",
            "844/844 [==============================] - 119s 141ms/step - loss: 0.0431 - accuracy: 0.9861 - val_loss: 0.0378 - val_accuracy: 0.9885\n",
            "Epoch 3/5\n",
            "844/844 [==============================] - 117s 138ms/step - loss: 0.0277 - accuracy: 0.9914 - val_loss: 0.0344 - val_accuracy: 0.9905\n",
            "Epoch 4/5\n",
            "844/844 [==============================] - 117s 138ms/step - loss: 0.0207 - accuracy: 0.9933 - val_loss: 0.0413 - val_accuracy: 0.9882\n",
            "Epoch 5/5\n",
            "844/844 [==============================] - 117s 139ms/step - loss: 0.0158 - accuracy: 0.9946 - val_loss: 0.0343 - val_accuracy: 0.9903\n"
          ]
        },
        {
          "output_type": "execute_result",
          "data": {
            "text/plain": [
              "<keras.callbacks.History at 0x7f1ea8d1ead0>"
            ]
          },
          "metadata": {},
          "execution_count": 19
        }
      ]
    },
    {
      "cell_type": "code",
      "source": [
        "loss, accuracy = cnn.evaluate(X_test, y_test)\n"
      ],
      "metadata": {
        "colab": {
          "base_uri": "https://localhost:8080/",
          "height": 0
        },
        "id": "PWL9fL0idNzG",
        "outputId": "0d8dec90-4e0f-422b-ab56-a1fd68cdbefd"
      },
      "execution_count": 20,
      "outputs": [
        {
          "output_type": "stream",
          "name": "stdout",
          "text": [
            "313/313 [==============================] - 6s 20ms/step - loss: 0.0277 - accuracy: 0.9911\n"
          ]
        }
      ]
    },
    {
      "cell_type": "code",
      "source": [
        "loss\n"
      ],
      "metadata": {
        "colab": {
          "base_uri": "https://localhost:8080/",
          "height": 0
        },
        "id": "4xhOAq5TdPW-",
        "outputId": "1ce182d9-f379-4ac3-99ac-290eadcedd63"
      },
      "execution_count": 21,
      "outputs": [
        {
          "output_type": "execute_result",
          "data": {
            "text/plain": [
              "0.027681583538651466"
            ]
          },
          "metadata": {},
          "execution_count": 21
        }
      ]
    },
    {
      "cell_type": "code",
      "source": [
        "accuracy\n"
      ],
      "metadata": {
        "colab": {
          "base_uri": "https://localhost:8080/",
          "height": 0
        },
        "id": "3a7yQ6NNdQse",
        "outputId": "f9b638b8-0a27-4364-bfa3-bb1e13a393e8"
      },
      "execution_count": 22,
      "outputs": [
        {
          "output_type": "execute_result",
          "data": {
            "text/plain": [
              "0.991100013256073"
            ]
          },
          "metadata": {},
          "execution_count": 22
        }
      ]
    },
    {
      "cell_type": "code",
      "source": [
        "predictions = cnn.predict(X_test)\n"
      ],
      "metadata": {
        "id": "p0vtfky9dSZ8"
      },
      "execution_count": 23,
      "outputs": []
    },
    {
      "cell_type": "code",
      "source": [
        "y_test[0]\n"
      ],
      "metadata": {
        "colab": {
          "base_uri": "https://localhost:8080/",
          "height": 0
        },
        "id": "3fWzXWxXdURY",
        "outputId": "09bc8320-03e0-4c19-f232-8614ad2e67bd"
      },
      "execution_count": 24,
      "outputs": [
        {
          "output_type": "execute_result",
          "data": {
            "text/plain": [
              "array([0., 0., 0., 0., 0., 0., 0., 1., 0., 0.], dtype=float32)"
            ]
          },
          "metadata": {},
          "execution_count": 24
        }
      ]
    },
    {
      "cell_type": "code",
      "source": [
        "for index, probability in enumerate(predictions[0]):\n",
        "    print(f'{index}: {probability:.10%}')"
      ],
      "metadata": {
        "colab": {
          "base_uri": "https://localhost:8080/",
          "height": 0
        },
        "id": "v1XDOqa9dWFs",
        "outputId": "421ae526-071e-400d-a1df-102265d3c212"
      },
      "execution_count": 25,
      "outputs": [
        {
          "output_type": "stream",
          "name": "stdout",
          "text": [
            "0: 0.0000000081%\n",
            "1: 0.0000000212%\n",
            "2: 0.0000002577%\n",
            "3: 0.0000002148%\n",
            "4: 0.0000000001%\n",
            "5: 0.0000002939%\n",
            "6: 0.0000000000%\n",
            "7: 100.0000000000%\n",
            "8: 0.0000000959%\n",
            "9: 0.0000009430%\n"
          ]
        }
      ]
    },
    {
      "cell_type": "code",
      "source": [
        "images = X_test.reshape((10000, 28, 28))\n",
        "incorrect_predictions = []\n"
      ],
      "metadata": {
        "id": "ypYlih5edZnn"
      },
      "execution_count": 26,
      "outputs": []
    },
    {
      "cell_type": "code",
      "source": [
        "for i, (p, e) in enumerate(zip(predictions, y_test)):\n",
        "    predicted, expected = np.argmax(p), np.argmax(e)\n",
        "\n",
        "    if predicted != expected:  # prediction was incorrect\n",
        "        incorrect_predictions.append(\n",
        "            (i, images[i], predicted, expected))\n",
        "len(incorrect_predictions)"
      ],
      "metadata": {
        "colab": {
          "base_uri": "https://localhost:8080/",
          "height": 0
        },
        "id": "2nylVKOddcad",
        "outputId": "6c231290-4349-43a1-b71f-22590718e1a0"
      },
      "execution_count": 27,
      "outputs": [
        {
          "output_type": "execute_result",
          "data": {
            "text/plain": [
              "89"
            ]
          },
          "metadata": {},
          "execution_count": 27
        }
      ]
    },
    {
      "cell_type": "code",
      "source": [
        "figure, axes = plt.subplots(nrows=4, ncols=6, figsize=(16, 12))\n",
        "\n",
        "for axes, item in zip(axes.ravel(), incorrect_predictions):\n",
        "    index, image, predicted, expected = item\n",
        "    axes.imshow(image, cmap=plt.cm.gray_r)\n",
        "    axes.set_xticks([])  # remove x-axis tick marks\n",
        "    axes.set_yticks([])  # remove y-axis tick marks\n",
        "    axes.set_title(f'index: {index}\\np: {predicted}; e: {expected}')\n",
        "plt.tight_layout()"
      ],
      "metadata": {
        "colab": {
          "base_uri": "https://localhost:8080/",
          "height": 878
        },
        "id": "nA2ahN09dehb",
        "outputId": "5fbc7549-bc08-405d-ea4f-92e63358f72f"
      },
      "execution_count": 28,
      "outputs": [
        {
          "output_type": "display_data",
          "data": {
            "text/plain": [
              "<Figure size 1152x864 with 24 Axes>"
            ],
            "image/png": "[encoded data removed]"
          },
          "metadata": {}
        }
      ]
    },
    {
      "cell_type": "code",
      "source": [
        "def display_probabilities(prediction):\n",
        "    for index, probability in enumerate(prediction):\n",
        "        print(f'{index}: {probability:.10%}')"
      ],
      "metadata": {
        "id": "fK5gD0KEdgMB"
      },
      "execution_count": 29,
      "outputs": []
    },
    {
      "cell_type": "code",
      "source": [
        "display_probabilities(predictions[340])\n"
      ],
      "metadata": {
        "colab": {
          "base_uri": "https://localhost:8080/",
          "height": 0
        },
        "id": "ppjNLuSYdh9H",
        "outputId": "7960a372-aada-4d03-8739-329b9fc935f0"
      },
      "execution_count": 30,
      "outputs": [
        {
          "output_type": "stream",
          "name": "stdout",
          "text": [
            "0: 0.0000019237%\n",
            "1: 0.0019146122%\n",
            "2: 0.0000735982%\n",
            "3: 78.0477106571%\n",
            "4: 0.0000203154%\n",
            "5: 21.9418674707%\n",
            "6: 0.0067467852%\n",
            "7: 0.0000003930%\n",
            "8: 0.0015966823%\n",
            "9: 0.0000733218%\n"
          ]
        }
      ]
    },
    {
      "cell_type": "code",
      "source": [
        "display_probabilities(predictions[740])\n"
      ],
      "metadata": {
        "colab": {
          "base_uri": "https://localhost:8080/",
          "height": 0
        },
        "id": "wRo9O_b4djI7",
        "outputId": "0ad33a94-a28e-47c2-c70f-0dc3847d42f4"
      },
      "execution_count": 31,
      "outputs": [
        {
          "output_type": "stream",
          "name": "stdout",
          "text": [
            "0: 0.0000009902%\n",
            "1: 0.0146529695%\n",
            "2: 0.0746492587%\n",
            "3: 0.0099889890%\n",
            "4: 78.4299790859%\n",
            "5: 0.0022441011%\n",
            "6: 0.0000000030%\n",
            "7: 3.9147470146%\n",
            "8: 0.0070608621%\n",
            "9: 17.5466775894%\n"
          ]
        }
      ]
    },
    {
      "cell_type": "code",
      "source": [
        "display_probabilities(predictions[1260])\n"
      ],
      "metadata": {
        "colab": {
          "base_uri": "https://localhost:8080/",
          "height": 0
        },
        "id": "UVuAJKnWdkVu",
        "outputId": "31a714f7-e4a6-48c9-9956-bc035d555f9c"
      },
      "execution_count": 32,
      "outputs": [
        {
          "output_type": "stream",
          "name": "stdout",
          "text": [
            "0: 0.0042506028%\n",
            "1: 29.5590788126%\n",
            "2: 0.5751816556%\n",
            "3: 0.0140714532%\n",
            "4: 0.0180391435%\n",
            "5: 0.0010758344%\n",
            "6: 0.0000017094%\n",
            "7: 69.7186291218%\n",
            "8: 0.0489548722%\n",
            "9: 0.0607148628%\n"
          ]
        }
      ]
    },
    {
      "cell_type": "code",
      "source": [
        "cnn.save('mnist_cnn.h5')\n"
      ],
      "metadata": {
        "id": "zSwpJXkDdoiw"
      },
      "execution_count": 33,
      "outputs": []
    },
    {
      "cell_type": "code",
      "source": [
        "cnn.add(Dense(units=128, activation='relu'))\n",
        "cnn.summary()"
      ],
      "metadata": {
        "colab": {
          "base_uri": "https://localhost:8080/",
          "height": 0
        },
        "id": "GCqJAFWjhZHs",
        "outputId": "497de1bd-bf83-4ec8-fdcf-2546a74389e7"
      },
      "execution_count": 34,
      "outputs": [
        {
          "output_type": "stream",
          "name": "stdout",
          "text": [
            "Model: \"sequential\"\n",
            "_________________________________________________________________\n",
            " Layer (type)                Output Shape              Param #   \n",
            "=================================================================\n",
            " conv2d (Conv2D)             (None, 26, 26, 64)        640       \n",
            "                                                                 \n",
            " max_pooling2d (MaxPooling2D  (None, 13, 13, 64)       0         \n",
            " )                                                               \n",
            "                                                                 \n",
            " conv2d_1 (Conv2D)           (None, 11, 11, 128)       73856     \n",
            "                                                                 \n",
            " max_pooling2d_1 (MaxPooling  (None, 5, 5, 128)        0         \n",
            " 2D)                                                             \n",
            "                                                                 \n",
            " flatten (Flatten)           (None, 3200)              0         \n",
            "                                                                 \n",
            " dense (Dense)               (None, 128)               409728    \n",
            "                                                                 \n",
            " dense_1 (Dense)             (None, 10)                1290      \n",
            "                                                                 \n",
            " dense_2 (Dense)             (None, 128)               1408      \n",
            "                                                                 \n",
            "=================================================================\n",
            "Total params: 486,922\n",
            "Trainable params: 486,922\n",
            "Non-trainable params: 0\n",
            "_________________________________________________________________\n"
          ]
        }
      ]
    },
    {
      "cell_type": "code",
      "source": [
        "cnn.compile(optimizer='adam',\n",
        "            loss='categorical_crossentropy',\n",
        "            metrics=['accuracy'])"
      ],
      "metadata": {
        "id": "0GnvOkQapx2z"
      },
      "execution_count": 35,
      "outputs": []
    },
    {
      "cell_type": "code",
      "source": [
        "predictions = cnn.predict(X_test)\n"
      ],
      "metadata": {
        "id": "7vvPw_I5p76q"
      },
      "execution_count": 38,
      "outputs": []
    },
    {
      "cell_type": "code",
      "source": [
        "y_test[0]"
      ],
      "metadata": {
        "colab": {
          "base_uri": "https://localhost:8080/",
          "height": 0
        },
        "id": "rK-4kZAQp_yl",
        "outputId": "db3336f8-7bd5-4eba-d3b2-be80eb05ba96"
      },
      "execution_count": 39,
      "outputs": [
        {
          "output_type": "execute_result",
          "data": {
            "text/plain": [
              "array([0., 0., 0., 0., 0., 0., 0., 1., 0., 0.], dtype=float32)"
            ]
          },
          "metadata": {},
          "execution_count": 39
        }
      ]
    },
    {
      "cell_type": "code",
      "source": [
        "for index, probability in enumerate(predictions[0]):\n",
        "    print(f'{index}: {probability:.10%}')"
      ],
      "metadata": {
        "colab": {
          "base_uri": "https://localhost:8080/",
          "height": 0
        },
        "id": "VX8Z-URLqBVj",
        "outputId": "3d9f141b-dc86-4b1a-d597-8917640fa0e6"
      },
      "execution_count": 40,
      "outputs": [
        {
          "output_type": "stream",
          "name": "stdout",
          "text": [
            "0: 0.0000000000%\n",
            "1: 13.3387044072%\n",
            "2: 0.0000000000%\n",
            "3: 7.3458269238%\n",
            "4: 20.5583289266%\n",
            "5: 15.3762564063%\n",
            "6: 10.5646654963%\n",
            "7: 0.0000000000%\n",
            "8: 0.0000000000%\n",
            "9: 6.6145136952%\n",
            "10: 0.0000000000%\n",
            "11: 0.0262141111%\n",
            "12: 12.2556075454%\n",
            "13: 15.5725106597%\n",
            "14: 0.0000000000%\n",
            "15: 0.0000000000%\n",
            "16: 7.5495049357%\n",
            "17: 19.6090444922%\n",
            "18: 11.0733762383%\n",
            "19: 0.0000000000%\n",
            "20: 10.1472452283%\n",
            "21: 0.0000000000%\n",
            "22: 16.9489547610%\n",
            "23: 0.0000000000%\n",
            "24: 0.0000000000%\n",
            "25: 0.0000000000%\n",
            "26: 0.0000000000%\n",
            "27: 0.0000000000%\n",
            "28: 0.0000000000%\n",
            "29: 3.1498759985%\n",
            "30: 6.1902359128%\n",
            "31: 0.0000000000%\n",
            "32: 13.0835548043%\n",
            "33: 0.0000000000%\n",
            "34: 0.0000000000%\n",
            "35: 0.0000000000%\n",
            "36: 0.0000000000%\n",
            "37: 0.0000000000%\n",
            "38: 15.9332737327%\n",
            "39: 1.5535830520%\n",
            "40: 0.0000000000%\n",
            "41: 11.9538560510%\n",
            "42: 7.1300193667%\n",
            "43: 0.0000000000%\n",
            "44: 15.5147895217%\n",
            "45: 0.0000000000%\n",
            "46: 13.0813375115%\n",
            "47: 18.5861214995%\n",
            "48: 1.5156077221%\n",
            "49: 0.0000000000%\n",
            "50: 0.0000000000%\n",
            "51: 19.6228697896%\n",
            "52: 16.3182720542%\n",
            "53: 0.0000000000%\n",
            "54: 0.0000000000%\n",
            "55: 0.0000000000%\n",
            "56: 20.0622215867%\n",
            "57: 11.7804750800%\n",
            "58: 0.0000000000%\n",
            "59: 0.0000000000%\n",
            "60: 9.3925610185%\n",
            "61: 8.7520286441%\n",
            "62: 0.0000000000%\n",
            "63: 0.0000000000%\n",
            "64: 7.7036663890%\n",
            "65: 0.0000000000%\n",
            "66: 5.6239917874%\n",
            "67: 0.0000000000%\n",
            "68: 0.0000000000%\n",
            "69: 0.0000000000%\n",
            "70: 0.0000000000%\n",
            "71: 17.9722204804%\n",
            "72: 0.0000000000%\n",
            "73: 9.1585233808%\n",
            "74: 7.4554100633%\n",
            "75: 0.0000000000%\n",
            "76: 0.0000000000%\n",
            "77: 0.0000000000%\n",
            "78: 11.7980226874%\n",
            "79: 0.0000000000%\n",
            "80: 0.0000000000%\n",
            "81: 18.4662953019%\n",
            "82: 4.8528298736%\n",
            "83: 0.0000000000%\n",
            "84: 0.0000000000%\n",
            "85: 0.0000000000%\n",
            "86: 0.0000000000%\n",
            "87: 3.4276004881%\n",
            "88: 18.0184200406%\n",
            "89: 10.3405848145%\n",
            "90: 2.9744504020%\n",
            "91: 1.5842214227%\n",
            "92: 0.0000000000%\n",
            "93: 15.8284977078%\n",
            "94: 17.4209550023%\n",
            "95: 20.3178241849%\n",
            "96: 20.2436551452%\n",
            "97: 14.7468462586%\n",
            "98: 4.5240864158%\n",
            "99: 0.0000000000%\n",
            "100: 20.4617157578%\n",
            "101: 0.0000000000%\n",
            "102: 0.0000000000%\n",
            "103: 11.0762402415%\n",
            "104: 9.5914259553%\n",
            "105: 0.0000000000%\n",
            "106: 1.5518429689%\n",
            "107: 1.5675127506%\n",
            "108: 3.0637862161%\n",
            "109: 0.0000000000%\n",
            "110: 15.1913955808%\n",
            "111: 0.0000000000%\n",
            "112: 0.0000000000%\n",
            "113: 0.0000000000%\n",
            "114: 0.0000000000%\n",
            "115: 6.4196661115%\n",
            "116: 0.0000000000%\n",
            "117: 0.0000000000%\n",
            "118: 0.0000000000%\n",
            "119: 10.5156317353%\n",
            "120: 0.0000000000%\n",
            "121: 0.0000000000%\n",
            "122: 0.0000000000%\n",
            "123: 0.0000000000%\n",
            "124: 7.5344160199%\n",
            "125: 17.0723631978%\n",
            "126: 0.0000000000%\n",
            "127: 0.0000000000%\n"
          ]
        }
      ]
    },
    {
      "cell_type": "code",
      "source": [
        "images = X_test.reshape((10000, 28, 28))\n",
        "incorrect_predictions = []\n",
        "for i, (p, e) in enumerate(zip(predictions, y_test)):\n",
        "    predicted, expected = np.argmax(p), np.argmax(e)\n",
        "\n",
        "    if predicted != expected:  # prediction was incorrect\n",
        "        incorrect_predictions.append(\n",
        "            (i, images[i], predicted, expected))\n",
        "len(incorrect_predictions)"
      ],
      "metadata": {
        "colab": {
          "base_uri": "https://localhost:8080/",
          "height": 0
        },
        "id": "UTp0iNcTqLQe",
        "outputId": "79b12938-77b3-4931-fda8-fea256ccb30a"
      },
      "execution_count": 41,
      "outputs": [
        {
          "output_type": "execute_result",
          "data": {
            "text/plain": [
              "10000"
            ]
          },
          "metadata": {},
          "execution_count": 41
        }
      ]
    },
    {
      "cell_type": "code",
      "source": [
        "cnn.pop() "
      ],
      "metadata": {
        "id": "oejrsKKdgdaa"
      },
      "execution_count": 42,
      "outputs": []
    },
    {
      "cell_type": "code",
      "source": [
        "cnn.pop() "
      ],
      "metadata": {
        "id": "hjE4BP5vpC1a"
      },
      "execution_count": 43,
      "outputs": []
    },
    {
      "cell_type": "code",
      "source": [
        "cnn.summary()\n"
      ],
      "metadata": {
        "colab": {
          "base_uri": "https://localhost:8080/",
          "height": 0
        },
        "id": "pQ7z4qIshQTi",
        "outputId": "6180823d-5a8b-453d-bd7c-0ebef5fe754c"
      },
      "execution_count": 44,
      "outputs": [
        {
          "output_type": "stream",
          "name": "stdout",
          "text": [
            "Model: \"sequential\"\n",
            "_________________________________________________________________\n",
            " Layer (type)                Output Shape              Param #   \n",
            "=================================================================\n",
            " conv2d (Conv2D)             (None, 26, 26, 64)        640       \n",
            "                                                                 \n",
            " max_pooling2d (MaxPooling2D  (None, 13, 13, 64)       0         \n",
            " )                                                               \n",
            "                                                                 \n",
            " conv2d_1 (Conv2D)           (None, 11, 11, 128)       73856     \n",
            "                                                                 \n",
            " max_pooling2d_1 (MaxPooling  (None, 5, 5, 128)        0         \n",
            " 2D)                                                             \n",
            "                                                                 \n",
            " flatten (Flatten)           (None, 3200)              0         \n",
            "                                                                 \n",
            " dense (Dense)               (None, 128)               409728    \n",
            "                                                                 \n",
            "=================================================================\n",
            "Total params: 484,224\n",
            "Trainable params: 484,224\n",
            "Non-trainable params: 0\n",
            "_________________________________________________________________\n"
          ]
        }
      ]
    },
    {
      "cell_type": "code",
      "source": [
        "cnn.compile(optimizer='adam',\n",
        "            loss='categorical_crossentropy',\n",
        "            metrics=['accuracy'])"
      ],
      "metadata": {
        "id": "B2kcC9_oqUzu"
      },
      "execution_count": 45,
      "outputs": []
    },
    {
      "cell_type": "code",
      "source": [
        "predictions = cnn.predict(X_test)\n"
      ],
      "metadata": {
        "id": "52_diFHkqZr8"
      },
      "execution_count": 47,
      "outputs": []
    },
    {
      "cell_type": "code",
      "source": [
        "y_test[0]"
      ],
      "metadata": {
        "colab": {
          "base_uri": "https://localhost:8080/",
          "height": 0
        },
        "id": "iaB3boNwqew0",
        "outputId": "98cdd446-eef8-407e-a56d-ca475e62b09d"
      },
      "execution_count": 48,
      "outputs": [
        {
          "output_type": "execute_result",
          "data": {
            "text/plain": [
              "array([0., 0., 0., 0., 0., 0., 0., 1., 0., 0.], dtype=float32)"
            ]
          },
          "metadata": {},
          "execution_count": 48
        }
      ]
    },
    {
      "cell_type": "code",
      "source": [
        "for index, probability in enumerate(predictions[0]):\n",
        "    print(f'{index}: {probability:.10%}')"
      ],
      "metadata": {
        "colab": {
          "base_uri": "https://localhost:8080/",
          "height": 0
        },
        "id": "HBLsULufqgAL",
        "outputId": "91c1fdd5-709b-4d24-f5de-5d6f978ee56a"
      },
      "execution_count": 49,
      "outputs": [
        {
          "output_type": "stream",
          "name": "stdout",
          "text": [
            "0: 582.6201438904%\n",
            "1: 0.0000000000%\n",
            "2: 0.0000000000%\n",
            "3: 550.6273746490%\n",
            "4: 117.6896691322%\n",
            "5: 0.0000000000%\n",
            "6: 128.9675354958%\n",
            "7: 0.0000000000%\n",
            "8: 0.0000000000%\n",
            "9: 0.0000000000%\n",
            "10: 0.0000000000%\n",
            "11: 0.0000000000%\n",
            "12: 0.0000000000%\n",
            "13: 0.0000000000%\n",
            "14: 0.0000000000%\n",
            "15: 96.4179754257%\n",
            "16: 584.8252296448%\n",
            "17: 673.4026908875%\n",
            "18: 0.0000000000%\n",
            "19: 0.0000000000%\n",
            "20: 891.0318374634%\n",
            "21: 0.0000000000%\n",
            "22: 97.5337803364%\n",
            "23: 0.0000000000%\n",
            "24: 0.0000000000%\n",
            "25: 467.6223754883%\n",
            "26: 0.0000000000%\n",
            "27: 0.0000000000%\n",
            "28: 0.0000000000%\n",
            "29: 496.8074321747%\n",
            "30: 0.0000000000%\n",
            "31: 581.5757274628%\n",
            "32: 0.0000000000%\n",
            "33: 389.5402193069%\n",
            "34: 88.1126999855%\n",
            "35: 0.0000000000%\n",
            "36: 417.5701618195%\n",
            "37: 0.0000000000%\n",
            "38: 0.0000000000%\n",
            "39: 0.0000000000%\n",
            "40: 0.0000000000%\n",
            "41: 0.0000000000%\n",
            "42: 0.0000000000%\n",
            "43: 0.0000000000%\n",
            "44: 513.6754989624%\n",
            "45: 860.2800369263%\n",
            "46: 207.0073604584%\n",
            "47: 0.0000000000%\n",
            "48: 0.0000000000%\n",
            "49: 0.0000000000%\n",
            "50: 0.0000000000%\n",
            "51: 0.0000000000%\n",
            "52: 479.0994644165%\n",
            "53: 357.8570604324%\n",
            "54: 0.0000000000%\n",
            "55: 0.0000000000%\n",
            "56: 0.0000000000%\n",
            "57: 0.0000000000%\n",
            "58: 0.0000000000%\n",
            "59: 0.0000000000%\n",
            "60: 0.0000000000%\n",
            "61: 0.0000000000%\n",
            "62: 395.0544357300%\n",
            "63: 546.3800907135%\n",
            "64: 0.0000000000%\n",
            "65: 0.0000000000%\n",
            "66: 0.0000000000%\n",
            "67: 62.0096325874%\n",
            "68: 756.8602561951%\n",
            "69: 0.0000000000%\n",
            "70: 0.0000000000%\n",
            "71: 68.9365386963%\n",
            "72: 442.1809196472%\n",
            "73: 0.0000000000%\n",
            "74: 130.4064273834%\n",
            "75: 0.0000000000%\n",
            "76: 0.0000000000%\n",
            "77: 0.0000000000%\n",
            "78: 0.0000000000%\n",
            "79: 0.0000000000%\n",
            "80: 0.0000000000%\n",
            "81: 0.0000000000%\n",
            "82: 158.5736870766%\n",
            "83: 478.4157276154%\n",
            "84: 403.1672000885%\n",
            "85: 0.0000000000%\n",
            "86: 0.0000000000%\n",
            "87: 0.0000000000%\n",
            "88: 0.0000000000%\n",
            "89: 545.6417560577%\n",
            "90: 0.0000000000%\n",
            "91: 0.0000000000%\n",
            "92: 0.0000000000%\n",
            "93: 0.0000000000%\n",
            "94: 0.0000000000%\n",
            "95: 99.5961070061%\n",
            "96: 80.9844553471%\n",
            "97: 0.0000000000%\n",
            "98: 0.0000000000%\n",
            "99: 0.0000000000%\n",
            "100: 0.0000000000%\n",
            "101: 0.0000000000%\n",
            "102: 0.0000000000%\n",
            "103: 0.0000000000%\n",
            "104: 260.0703239441%\n",
            "105: 0.0000000000%\n",
            "106: 307.4558496475%\n",
            "107: 0.0000000000%\n",
            "108: 0.0000000000%\n",
            "109: 173.7301826477%\n",
            "110: 20.6154465675%\n",
            "111: 708.4628582001%\n",
            "112: 0.0000000000%\n",
            "113: 184.9225282669%\n",
            "114: 0.0000000000%\n",
            "115: 728.0808925629%\n",
            "116: 439.3082141876%\n",
            "117: 0.0000000000%\n",
            "118: 200.3650426865%\n",
            "119: 65.9556329250%\n",
            "120: 0.0000000000%\n",
            "121: 288.5052919388%\n",
            "122: 612.2583866119%\n",
            "123: 0.0000000000%\n",
            "124: 0.0000000000%\n",
            "125: 741.4591312408%\n",
            "126: 0.0000000000%\n",
            "127: 91.1666750908%\n"
          ]
        }
      ]
    },
    {
      "cell_type": "code",
      "source": [
        "images = X_test.reshape((10000, 28, 28))\n",
        "incorrect_predictions = []\n",
        "for i, (p, e) in enumerate(zip(predictions, y_test)):\n",
        "    predicted, expected = np.argmax(p), np.argmax(e)\n",
        "\n",
        "    if predicted != expected:  # prediction was incorrect\n",
        "        incorrect_predictions.append(\n",
        "            (i, images[i], predicted, expected))\n",
        "len(incorrect_predictions)"
      ],
      "metadata": {
        "colab": {
          "base_uri": "https://localhost:8080/",
          "height": 0
        },
        "id": "LMRn0AEsqijF",
        "outputId": "8accbdd3-ec01-44f3-bea5-dda29cb64af3"
      },
      "execution_count": 50,
      "outputs": [
        {
          "output_type": "execute_result",
          "data": {
            "text/plain": [
              "9985"
            ]
          },
          "metadata": {},
          "execution_count": 50
        }
      ]
    }
  ],
  "metadata": {
    "colab": {
      "name": "Hw 7 (16.4) .ipynb",
      "provenance": [],
      "authorship_tag": "ABX9TyMw0qRNBGZyfuVzFE9DBkXt",
      "include_colab_link": true
    },
    "kernelspec": {
      "display_name": "Python 3",
      "name": "python3"
    },
    "language_info": {
      "name": "python"
    }
  },
  "nbformat": 4,
  "nbformat_minor": 0
}